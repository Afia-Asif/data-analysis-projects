{
 "cells": [
  {
   "cell_type": "code",
   "execution_count": 1,
   "metadata": {
    "id": "9pRaLmjyXTqw"
   },
   "outputs": [],
   "source": [
    "import numpy as np\n",
    "import pandas as pd"
   ]
  },
  {
   "cell_type": "code",
   "execution_count": 3,
   "metadata": {
    "id": "xmfjmsrGYsNa"
   },
   "outputs": [],
   "source": [
    "drop_out = pd.read_csv(\"c:\\\\Users\\Admin\\Desktop\\kaggle-data\\dropout-ratio-2012-2015.csv\")"
   ]
  },
  {
   "cell_type": "code",
   "execution_count": 4,
   "metadata": {
    "colab": {
     "base_uri": "https://localhost:8080/",
     "height": 374
    },
    "id": "6TwFYaDUZ7ld",
    "outputId": "019f5dc6-3543-426b-b251-ce6b67afd46e"
   },
   "outputs": [
    {
     "data": {
      "text/html": [
       "<div>\n",
       "<style scoped>\n",
       "    .dataframe tbody tr th:only-of-type {\n",
       "        vertical-align: middle;\n",
       "    }\n",
       "\n",
       "    .dataframe tbody tr th {\n",
       "        vertical-align: top;\n",
       "    }\n",
       "\n",
       "    .dataframe thead th {\n",
       "        text-align: right;\n",
       "    }\n",
       "</style>\n",
       "<table border=\"1\" class=\"dataframe\">\n",
       "  <thead>\n",
       "    <tr style=\"text-align: right;\">\n",
       "      <th></th>\n",
       "      <th>State_UT</th>\n",
       "      <th>year</th>\n",
       "      <th>Primary_Boys</th>\n",
       "      <th>Primary_Girls</th>\n",
       "      <th>Primary_Total</th>\n",
       "      <th>Upper Primary_Boys</th>\n",
       "      <th>Upper Primary_Girls</th>\n",
       "      <th>Upper Primary_Total</th>\n",
       "      <th>Secondary _Boys</th>\n",
       "      <th>Secondary _Girls</th>\n",
       "      <th>Secondary _Total</th>\n",
       "      <th>HrSecondary_Boys</th>\n",
       "      <th>HrSecondary_Girls</th>\n",
       "      <th>HrSecondary_Total</th>\n",
       "    </tr>\n",
       "  </thead>\n",
       "  <tbody>\n",
       "    <tr>\n",
       "      <th>0</th>\n",
       "      <td>A &amp; N Islands</td>\n",
       "      <td>2012-13</td>\n",
       "      <td>0.83</td>\n",
       "      <td>0.51</td>\n",
       "      <td>0.68</td>\n",
       "      <td>Uppe_r_Primary</td>\n",
       "      <td>1.09</td>\n",
       "      <td>1.23</td>\n",
       "      <td>5.57</td>\n",
       "      <td>5.55</td>\n",
       "      <td>5.56</td>\n",
       "      <td>17.66</td>\n",
       "      <td>10.15</td>\n",
       "      <td>14.14</td>\n",
       "    </tr>\n",
       "    <tr>\n",
       "      <th>1</th>\n",
       "      <td>A &amp; N Islands</td>\n",
       "      <td>2013-14</td>\n",
       "      <td>1.35</td>\n",
       "      <td>1.06</td>\n",
       "      <td>1.21</td>\n",
       "      <td>NR</td>\n",
       "      <td>1.54</td>\n",
       "      <td>0.51</td>\n",
       "      <td>8.36</td>\n",
       "      <td>5.98</td>\n",
       "      <td>7.2</td>\n",
       "      <td>18.94</td>\n",
       "      <td>12.2</td>\n",
       "      <td>15.87</td>\n",
       "    </tr>\n",
       "    <tr>\n",
       "      <th>2</th>\n",
       "      <td>A &amp; N Islands</td>\n",
       "      <td>2014-15</td>\n",
       "      <td>0.47</td>\n",
       "      <td>0.55</td>\n",
       "      <td>0.51</td>\n",
       "      <td>1.44</td>\n",
       "      <td>1.95</td>\n",
       "      <td>1.69</td>\n",
       "      <td>11.47</td>\n",
       "      <td>8.16</td>\n",
       "      <td>9.87</td>\n",
       "      <td>21.05</td>\n",
       "      <td>12.21</td>\n",
       "      <td>16.93</td>\n",
       "    </tr>\n",
       "    <tr>\n",
       "      <th>3</th>\n",
       "      <td>Andhra Pradesh</td>\n",
       "      <td>2012-13</td>\n",
       "      <td>3.3</td>\n",
       "      <td>3.05</td>\n",
       "      <td>3.18</td>\n",
       "      <td>3.21</td>\n",
       "      <td>3.51</td>\n",
       "      <td>3.36</td>\n",
       "      <td>12.21</td>\n",
       "      <td>13.25</td>\n",
       "      <td>12.72</td>\n",
       "      <td>2.66</td>\n",
       "      <td>NR</td>\n",
       "      <td>0.35</td>\n",
       "    </tr>\n",
       "    <tr>\n",
       "      <th>4</th>\n",
       "      <td>Andhra Pradesh</td>\n",
       "      <td>2013-14</td>\n",
       "      <td>4.31</td>\n",
       "      <td>4.39</td>\n",
       "      <td>4.35</td>\n",
       "      <td>3.46</td>\n",
       "      <td>4.12</td>\n",
       "      <td>3.78</td>\n",
       "      <td>11.95</td>\n",
       "      <td>13.37</td>\n",
       "      <td>12.65</td>\n",
       "      <td>12.65</td>\n",
       "      <td>10.85</td>\n",
       "      <td>11.79</td>\n",
       "    </tr>\n",
       "  </tbody>\n",
       "</table>\n",
       "</div>"
      ],
      "text/plain": [
       "         State_UT     year Primary_Boys Primary_Girls Primary_Total  \\\n",
       "0   A & N Islands  2012-13         0.83          0.51          0.68   \n",
       "1   A & N Islands  2013-14         1.35          1.06          1.21   \n",
       "2   A & N Islands  2014-15         0.47          0.55          0.51   \n",
       "3  Andhra Pradesh  2012-13          3.3          3.05          3.18   \n",
       "4  Andhra Pradesh  2013-14         4.31          4.39          4.35   \n",
       "\n",
       "  Upper Primary_Boys Upper Primary_Girls Upper Primary_Total Secondary _Boys  \\\n",
       "0     Uppe_r_Primary                1.09                1.23            5.57   \n",
       "1                 NR                1.54                0.51            8.36   \n",
       "2               1.44                1.95                1.69           11.47   \n",
       "3               3.21                3.51                3.36           12.21   \n",
       "4               3.46                4.12                3.78           11.95   \n",
       "\n",
       "  Secondary _Girls Secondary _Total HrSecondary_Boys HrSecondary_Girls  \\\n",
       "0             5.55             5.56            17.66             10.15   \n",
       "1             5.98              7.2            18.94              12.2   \n",
       "2             8.16             9.87            21.05             12.21   \n",
       "3            13.25            12.72             2.66                NR   \n",
       "4            13.37            12.65            12.65             10.85   \n",
       "\n",
       "  HrSecondary_Total  \n",
       "0             14.14  \n",
       "1             15.87  \n",
       "2             16.93  \n",
       "3              0.35  \n",
       "4             11.79  "
      ]
     },
     "execution_count": 4,
     "metadata": {},
     "output_type": "execute_result"
    }
   ],
   "source": [
    "drop_out.head()"
   ]
  },
  {
   "cell_type": "code",
   "execution_count": 5,
   "metadata": {
    "colab": {
     "base_uri": "https://localhost:8080/"
    },
    "id": "yDKYZX3LZ9xf",
    "outputId": "ace3cd71-0470-4581-d7d4-6af80082cbbe"
   },
   "outputs": [
    {
     "data": {
      "text/plain": [
       "Index(['State_UT', 'year', 'Primary_Boys', 'Primary_Girls', 'Primary_Total',\n",
       "       'Upper Primary_Boys', 'Upper Primary_Girls', 'Upper Primary_Total',\n",
       "       'Secondary _Boys', 'Secondary _Girls', 'Secondary _Total',\n",
       "       'HrSecondary_Boys', 'HrSecondary_Girls', 'HrSecondary_Total'],\n",
       "      dtype='object')"
      ]
     },
     "execution_count": 5,
     "metadata": {},
     "output_type": "execute_result"
    }
   ],
   "source": [
    "drop_out.columns"
   ]
  },
  {
   "cell_type": "code",
   "execution_count": 6,
   "metadata": {
    "colab": {
     "base_uri": "https://localhost:8080/",
     "height": 505
    },
    "id": "T-xjKeKJaPHv",
    "outputId": "8a10a750-d9b4-4e61-f813-9b793d828d6b"
   },
   "outputs": [
    {
     "data": {
      "text/html": [
       "<div>\n",
       "<style scoped>\n",
       "    .dataframe tbody tr th:only-of-type {\n",
       "        vertical-align: middle;\n",
       "    }\n",
       "\n",
       "    .dataframe tbody tr th {\n",
       "        vertical-align: top;\n",
       "    }\n",
       "\n",
       "    .dataframe thead th {\n",
       "        text-align: right;\n",
       "    }\n",
       "</style>\n",
       "<table border=\"1\" class=\"dataframe\">\n",
       "  <thead>\n",
       "    <tr style=\"text-align: right;\">\n",
       "      <th></th>\n",
       "      <th>State_UT</th>\n",
       "      <th>year</th>\n",
       "      <th>Primary_Boys</th>\n",
       "      <th>Primary_Girls</th>\n",
       "      <th>Primary_Total</th>\n",
       "      <th>Upper Primary_Boys</th>\n",
       "      <th>Upper Primary_Girls</th>\n",
       "      <th>Upper Primary_Total</th>\n",
       "      <th>Secondary _Boys</th>\n",
       "      <th>Secondary _Girls</th>\n",
       "      <th>Secondary _Total</th>\n",
       "      <th>HrSecondary_Boys</th>\n",
       "      <th>HrSecondary_Girls</th>\n",
       "      <th>HrSecondary_Total</th>\n",
       "    </tr>\n",
       "  </thead>\n",
       "  <tbody>\n",
       "    <tr>\n",
       "      <th>0</th>\n",
       "      <td>False</td>\n",
       "      <td>False</td>\n",
       "      <td>False</td>\n",
       "      <td>False</td>\n",
       "      <td>False</td>\n",
       "      <td>False</td>\n",
       "      <td>False</td>\n",
       "      <td>False</td>\n",
       "      <td>False</td>\n",
       "      <td>False</td>\n",
       "      <td>False</td>\n",
       "      <td>False</td>\n",
       "      <td>False</td>\n",
       "      <td>False</td>\n",
       "    </tr>\n",
       "    <tr>\n",
       "      <th>1</th>\n",
       "      <td>False</td>\n",
       "      <td>False</td>\n",
       "      <td>False</td>\n",
       "      <td>False</td>\n",
       "      <td>False</td>\n",
       "      <td>False</td>\n",
       "      <td>False</td>\n",
       "      <td>False</td>\n",
       "      <td>False</td>\n",
       "      <td>False</td>\n",
       "      <td>False</td>\n",
       "      <td>False</td>\n",
       "      <td>False</td>\n",
       "      <td>False</td>\n",
       "    </tr>\n",
       "    <tr>\n",
       "      <th>2</th>\n",
       "      <td>False</td>\n",
       "      <td>False</td>\n",
       "      <td>False</td>\n",
       "      <td>False</td>\n",
       "      <td>False</td>\n",
       "      <td>False</td>\n",
       "      <td>False</td>\n",
       "      <td>False</td>\n",
       "      <td>False</td>\n",
       "      <td>False</td>\n",
       "      <td>False</td>\n",
       "      <td>False</td>\n",
       "      <td>False</td>\n",
       "      <td>False</td>\n",
       "    </tr>\n",
       "    <tr>\n",
       "      <th>3</th>\n",
       "      <td>False</td>\n",
       "      <td>False</td>\n",
       "      <td>False</td>\n",
       "      <td>False</td>\n",
       "      <td>False</td>\n",
       "      <td>False</td>\n",
       "      <td>False</td>\n",
       "      <td>False</td>\n",
       "      <td>False</td>\n",
       "      <td>False</td>\n",
       "      <td>False</td>\n",
       "      <td>False</td>\n",
       "      <td>False</td>\n",
       "      <td>False</td>\n",
       "    </tr>\n",
       "    <tr>\n",
       "      <th>4</th>\n",
       "      <td>False</td>\n",
       "      <td>False</td>\n",
       "      <td>False</td>\n",
       "      <td>False</td>\n",
       "      <td>False</td>\n",
       "      <td>False</td>\n",
       "      <td>False</td>\n",
       "      <td>False</td>\n",
       "      <td>False</td>\n",
       "      <td>False</td>\n",
       "      <td>False</td>\n",
       "      <td>False</td>\n",
       "      <td>False</td>\n",
       "      <td>False</td>\n",
       "    </tr>\n",
       "    <tr>\n",
       "      <th>...</th>\n",
       "      <td>...</td>\n",
       "      <td>...</td>\n",
       "      <td>...</td>\n",
       "      <td>...</td>\n",
       "      <td>...</td>\n",
       "      <td>...</td>\n",
       "      <td>...</td>\n",
       "      <td>...</td>\n",
       "      <td>...</td>\n",
       "      <td>...</td>\n",
       "      <td>...</td>\n",
       "      <td>...</td>\n",
       "      <td>...</td>\n",
       "      <td>...</td>\n",
       "    </tr>\n",
       "    <tr>\n",
       "      <th>105</th>\n",
       "      <td>False</td>\n",
       "      <td>False</td>\n",
       "      <td>False</td>\n",
       "      <td>False</td>\n",
       "      <td>False</td>\n",
       "      <td>False</td>\n",
       "      <td>False</td>\n",
       "      <td>False</td>\n",
       "      <td>False</td>\n",
       "      <td>False</td>\n",
       "      <td>False</td>\n",
       "      <td>False</td>\n",
       "      <td>False</td>\n",
       "      <td>False</td>\n",
       "    </tr>\n",
       "    <tr>\n",
       "      <th>106</th>\n",
       "      <td>False</td>\n",
       "      <td>False</td>\n",
       "      <td>False</td>\n",
       "      <td>False</td>\n",
       "      <td>False</td>\n",
       "      <td>False</td>\n",
       "      <td>False</td>\n",
       "      <td>False</td>\n",
       "      <td>False</td>\n",
       "      <td>False</td>\n",
       "      <td>False</td>\n",
       "      <td>False</td>\n",
       "      <td>False</td>\n",
       "      <td>False</td>\n",
       "    </tr>\n",
       "    <tr>\n",
       "      <th>107</th>\n",
       "      <td>False</td>\n",
       "      <td>False</td>\n",
       "      <td>False</td>\n",
       "      <td>False</td>\n",
       "      <td>False</td>\n",
       "      <td>False</td>\n",
       "      <td>False</td>\n",
       "      <td>False</td>\n",
       "      <td>False</td>\n",
       "      <td>False</td>\n",
       "      <td>False</td>\n",
       "      <td>False</td>\n",
       "      <td>False</td>\n",
       "      <td>False</td>\n",
       "    </tr>\n",
       "    <tr>\n",
       "      <th>108</th>\n",
       "      <td>False</td>\n",
       "      <td>False</td>\n",
       "      <td>False</td>\n",
       "      <td>False</td>\n",
       "      <td>False</td>\n",
       "      <td>False</td>\n",
       "      <td>False</td>\n",
       "      <td>False</td>\n",
       "      <td>False</td>\n",
       "      <td>False</td>\n",
       "      <td>False</td>\n",
       "      <td>False</td>\n",
       "      <td>False</td>\n",
       "      <td>False</td>\n",
       "    </tr>\n",
       "    <tr>\n",
       "      <th>109</th>\n",
       "      <td>False</td>\n",
       "      <td>False</td>\n",
       "      <td>False</td>\n",
       "      <td>False</td>\n",
       "      <td>False</td>\n",
       "      <td>False</td>\n",
       "      <td>False</td>\n",
       "      <td>False</td>\n",
       "      <td>False</td>\n",
       "      <td>False</td>\n",
       "      <td>False</td>\n",
       "      <td>False</td>\n",
       "      <td>False</td>\n",
       "      <td>False</td>\n",
       "    </tr>\n",
       "  </tbody>\n",
       "</table>\n",
       "<p>110 rows × 14 columns</p>\n",
       "</div>"
      ],
      "text/plain": [
       "     State_UT   year  Primary_Boys  Primary_Girls  Primary_Total  \\\n",
       "0       False  False         False          False          False   \n",
       "1       False  False         False          False          False   \n",
       "2       False  False         False          False          False   \n",
       "3       False  False         False          False          False   \n",
       "4       False  False         False          False          False   \n",
       "..        ...    ...           ...            ...            ...   \n",
       "105     False  False         False          False          False   \n",
       "106     False  False         False          False          False   \n",
       "107     False  False         False          False          False   \n",
       "108     False  False         False          False          False   \n",
       "109     False  False         False          False          False   \n",
       "\n",
       "     Upper Primary_Boys  Upper Primary_Girls  Upper Primary_Total  \\\n",
       "0                 False                False                False   \n",
       "1                 False                False                False   \n",
       "2                 False                False                False   \n",
       "3                 False                False                False   \n",
       "4                 False                False                False   \n",
       "..                  ...                  ...                  ...   \n",
       "105               False                False                False   \n",
       "106               False                False                False   \n",
       "107               False                False                False   \n",
       "108               False                False                False   \n",
       "109               False                False                False   \n",
       "\n",
       "     Secondary _Boys  Secondary _Girls  Secondary _Total  HrSecondary_Boys  \\\n",
       "0              False             False             False             False   \n",
       "1              False             False             False             False   \n",
       "2              False             False             False             False   \n",
       "3              False             False             False             False   \n",
       "4              False             False             False             False   \n",
       "..               ...               ...               ...               ...   \n",
       "105            False             False             False             False   \n",
       "106            False             False             False             False   \n",
       "107            False             False             False             False   \n",
       "108            False             False             False             False   \n",
       "109            False             False             False             False   \n",
       "\n",
       "     HrSecondary_Girls  HrSecondary_Total  \n",
       "0                False              False  \n",
       "1                False              False  \n",
       "2                False              False  \n",
       "3                False              False  \n",
       "4                False              False  \n",
       "..                 ...                ...  \n",
       "105              False              False  \n",
       "106              False              False  \n",
       "107              False              False  \n",
       "108              False              False  \n",
       "109              False              False  \n",
       "\n",
       "[110 rows x 14 columns]"
      ]
     },
     "execution_count": 6,
     "metadata": {},
     "output_type": "execute_result"
    }
   ],
   "source": [
    "drop_out.isna()"
   ]
  },
  {
   "cell_type": "code",
   "execution_count": 7,
   "metadata": {
    "colab": {
     "base_uri": "https://localhost:8080/"
    },
    "id": "W8ALN1c_aYPG",
    "outputId": "f1c0c003-567b-4f6d-f4bc-c68f98a19980"
   },
   "outputs": [
    {
     "data": {
      "text/plain": [
       "State_UT               False\n",
       "year                   False\n",
       "Primary_Boys           False\n",
       "Primary_Girls          False\n",
       "Primary_Total          False\n",
       "Upper Primary_Boys     False\n",
       "Upper Primary_Girls    False\n",
       "Upper Primary_Total    False\n",
       "Secondary _Boys        False\n",
       "Secondary _Girls       False\n",
       "Secondary _Total       False\n",
       "HrSecondary_Boys       False\n",
       "HrSecondary_Girls      False\n",
       "HrSecondary_Total      False\n",
       "dtype: bool"
      ]
     },
     "execution_count": 7,
     "metadata": {},
     "output_type": "execute_result"
    }
   ],
   "source": [
    "drop_out.isna().any()"
   ]
  },
  {
   "cell_type": "code",
   "execution_count": 8,
   "metadata": {
    "colab": {
     "base_uri": "https://localhost:8080/"
    },
    "id": "piCcNegfauJP",
    "outputId": "4935742f-ca22-47e0-fb48-68c907f36f08"
   },
   "outputs": [
    {
     "name": "stdout",
     "output_type": "stream",
     "text": [
      "        State_UT     year Primary_Boys Primary_Girls Primary_Total  \\\n",
      "104  West Bengal  2012-13         6.88          5.71           6.3   \n",
      "105  West Bengal  2013-14         3.44          2.37          2.91   \n",
      "106  West Bengal  2014-15         2.13          0.79          1.47   \n",
      "\n",
      "    Upper Primary_Boys Upper Primary_Girls Upper Primary_Total  \\\n",
      "104               6.29                4.16                5.18   \n",
      "105               5.63                 3.1                4.31   \n",
      "106               5.84                2.88                 4.3   \n",
      "\n",
      "    Secondary _Boys Secondary _Girls Secondary _Total HrSecondary_Boys  \\\n",
      "104           14.95            19.41             17.3             7.81   \n",
      "105           16.73            19.77            18.34             8.03   \n",
      "106           16.33            19.06             17.8             8.18   \n",
      "\n",
      "    HrSecondary_Girls HrSecondary_Total  \n",
      "104              8.49              8.13  \n",
      "105              7.76               7.9  \n",
      "106              8.04              8.11  \n"
     ]
    }
   ],
   "source": [
    "data_wb = drop_out[drop_out['State_UT']=='West Bengal']\n",
    "print(data_wb.head())"
   ]
  },
  {
   "cell_type": "code",
   "execution_count": 9,
   "metadata": {
    "colab": {
     "base_uri": "https://localhost:8080/",
     "height": 277
    },
    "id": "Zs0dkpMObpzV",
    "outputId": "c6d7160e-0fac-46cf-d607-96707c6f15ab"
   },
   "outputs": [
    {
     "data": {
      "text/html": [
       "<div>\n",
       "<style scoped>\n",
       "    .dataframe tbody tr th:only-of-type {\n",
       "        vertical-align: middle;\n",
       "    }\n",
       "\n",
       "    .dataframe tbody tr th {\n",
       "        vertical-align: top;\n",
       "    }\n",
       "\n",
       "    .dataframe thead th {\n",
       "        text-align: right;\n",
       "    }\n",
       "</style>\n",
       "<table border=\"1\" class=\"dataframe\">\n",
       "  <thead>\n",
       "    <tr style=\"text-align: right;\">\n",
       "      <th></th>\n",
       "      <th>State_UT</th>\n",
       "      <th>year</th>\n",
       "      <th>Primary_Boys</th>\n",
       "      <th>Primary_Girls</th>\n",
       "      <th>Primary_Total</th>\n",
       "      <th>Upper Primary_Boys</th>\n",
       "      <th>Upper Primary_Girls</th>\n",
       "      <th>Upper Primary_Total</th>\n",
       "      <th>Secondary _Boys</th>\n",
       "      <th>Secondary _Girls</th>\n",
       "      <th>Secondary _Total</th>\n",
       "      <th>HrSecondary_Boys</th>\n",
       "      <th>HrSecondary_Girls</th>\n",
       "      <th>HrSecondary_Total</th>\n",
       "    </tr>\n",
       "  </thead>\n",
       "  <tbody>\n",
       "    <tr>\n",
       "      <th>104</th>\n",
       "      <td>West Bengal</td>\n",
       "      <td>2012-13</td>\n",
       "      <td>6.88</td>\n",
       "      <td>5.71</td>\n",
       "      <td>6.3</td>\n",
       "      <td>6.29</td>\n",
       "      <td>4.16</td>\n",
       "      <td>5.18</td>\n",
       "      <td>14.95</td>\n",
       "      <td>19.41</td>\n",
       "      <td>17.3</td>\n",
       "      <td>7.81</td>\n",
       "      <td>8.49</td>\n",
       "      <td>8.13</td>\n",
       "    </tr>\n",
       "    <tr>\n",
       "      <th>105</th>\n",
       "      <td>West Bengal</td>\n",
       "      <td>2013-14</td>\n",
       "      <td>3.44</td>\n",
       "      <td>2.37</td>\n",
       "      <td>2.91</td>\n",
       "      <td>5.63</td>\n",
       "      <td>3.1</td>\n",
       "      <td>4.31</td>\n",
       "      <td>16.73</td>\n",
       "      <td>19.77</td>\n",
       "      <td>18.34</td>\n",
       "      <td>8.03</td>\n",
       "      <td>7.76</td>\n",
       "      <td>7.9</td>\n",
       "    </tr>\n",
       "    <tr>\n",
       "      <th>106</th>\n",
       "      <td>West Bengal</td>\n",
       "      <td>2014-15</td>\n",
       "      <td>2.13</td>\n",
       "      <td>0.79</td>\n",
       "      <td>1.47</td>\n",
       "      <td>5.84</td>\n",
       "      <td>2.88</td>\n",
       "      <td>4.3</td>\n",
       "      <td>16.33</td>\n",
       "      <td>19.06</td>\n",
       "      <td>17.8</td>\n",
       "      <td>8.18</td>\n",
       "      <td>8.04</td>\n",
       "      <td>8.11</td>\n",
       "    </tr>\n",
       "  </tbody>\n",
       "</table>\n",
       "</div>"
      ],
      "text/plain": [
       "        State_UT     year Primary_Boys Primary_Girls Primary_Total  \\\n",
       "104  West Bengal  2012-13         6.88          5.71           6.3   \n",
       "105  West Bengal  2013-14         3.44          2.37          2.91   \n",
       "106  West Bengal  2014-15         2.13          0.79          1.47   \n",
       "\n",
       "    Upper Primary_Boys Upper Primary_Girls Upper Primary_Total  \\\n",
       "104               6.29                4.16                5.18   \n",
       "105               5.63                 3.1                4.31   \n",
       "106               5.84                2.88                 4.3   \n",
       "\n",
       "    Secondary _Boys Secondary _Girls Secondary _Total HrSecondary_Boys  \\\n",
       "104           14.95            19.41             17.3             7.81   \n",
       "105           16.73            19.77            18.34             8.03   \n",
       "106           16.33            19.06             17.8             8.18   \n",
       "\n",
       "    HrSecondary_Girls HrSecondary_Total  \n",
       "104              8.49              8.13  \n",
       "105              7.76               7.9  \n",
       "106              8.04              8.11  "
      ]
     },
     "execution_count": 9,
     "metadata": {},
     "output_type": "execute_result"
    }
   ],
   "source": [
    "data_wb"
   ]
  },
  {
   "cell_type": "code",
   "execution_count": 10,
   "metadata": {
    "colab": {
     "base_uri": "https://localhost:8080/"
    },
    "id": "HqMQndALbz2t",
    "outputId": "f12dfd2a-088b-4d21-ca42-ea67da4ebd3f"
   },
   "outputs": [
    {
     "name": "stdout",
     "output_type": "stream",
     "text": [
      "<class 'pandas.core.frame.DataFrame'>\n",
      "Int64Index: 3 entries, 104 to 106\n",
      "Data columns (total 14 columns):\n",
      " #   Column               Non-Null Count  Dtype \n",
      "---  ------               --------------  ----- \n",
      " 0   State_UT             3 non-null      object\n",
      " 1   year                 3 non-null      object\n",
      " 2   Primary_Boys         3 non-null      object\n",
      " 3   Primary_Girls        3 non-null      object\n",
      " 4   Primary_Total        3 non-null      object\n",
      " 5   Upper Primary_Boys   3 non-null      object\n",
      " 6   Upper Primary_Girls  3 non-null      object\n",
      " 7   Upper Primary_Total  3 non-null      object\n",
      " 8   Secondary _Boys      3 non-null      object\n",
      " 9   Secondary _Girls     3 non-null      object\n",
      " 10  Secondary _Total     3 non-null      object\n",
      " 11  HrSecondary_Boys     3 non-null      object\n",
      " 12  HrSecondary_Girls    3 non-null      object\n",
      " 13  HrSecondary_Total    3 non-null      object\n",
      "dtypes: object(14)\n",
      "memory usage: 360.0+ bytes\n"
     ]
    }
   ],
   "source": [
    "data_wb.info()"
   ]
  },
  {
   "cell_type": "code",
   "execution_count": 11,
   "metadata": {
    "colab": {
     "base_uri": "https://localhost:8080/"
    },
    "id": "wHWnRPovb9nN",
    "outputId": "a1a8baeb-ac88-444e-f2ee-82e87beaa03d"
   },
   "outputs": [
    {
     "data": {
      "text/plain": [
       "array(['0.83', '1.35', '0.47', '3.3', '4.31', '6.57', '11.54', '15.84',\n",
       "       '11.51', '7.02', '8.19', '16.07', 'NR', '2.38', '0.35', 'NR', 'NR',\n",
       "       'NR', '4.24', '1.45', '3.08', 'NR', '1.05', '1.6', 'NR', '1.06',\n",
       "       '1.8', 'NR', 'NR', 'NR', 'NR', '0.08', '0.63', '0.21', '0.5',\n",
       "       '0.82', '1.48', '0.22', '5.54', '0.51', '0.57', '0.46', '6.8',\n",
       "       '5.53', '6.98', '7.36', '6.89', '5.91', '3.4', '2.42', '2.03',\n",
       "       'NR', 'NR', 'NR', '2.3', '0', 'NR', '5.75', '9.91', '6.48', '0.88',\n",
       "       '0.51', '1.26', '10.24', '17.27', '9.5', '11.32', '11.3', '10.35',\n",
       "       '24.27', '12.57', '10.17', '7.11', '19.09', '6.18', '3.63', '2.83',\n",
       "       '2.91', '0.25', '0.76', '0.36', '1.99', '1.35', '2.89', '7.2',\n",
       "       '7.76', '5.02', '4.78', '5.55', '3.75', '4.02', '0.53', 'NR',\n",
       "       '6.04', '2.21', '2.31', '3.63', '1.37', '10.53', '7.91', '9.08',\n",
       "       '1.14', '3.28', '4.37', '6.88', '3.44', '2.13', '4.68', '4.53',\n",
       "       '4.36'], dtype=object)"
      ]
     },
     "execution_count": 11,
     "metadata": {},
     "output_type": "execute_result"
    }
   ],
   "source": [
    "drop_out['Primary_Boys'].values"
   ]
  },
  {
   "cell_type": "markdown",
   "metadata": {
    "id": "1-cEMzGScVYw"
   },
   "source": []
  },
  {
   "cell_type": "markdown",
   "metadata": {
    "id": "-BEL1bzgcXpA"
   },
   "source": [
    "in upper we can see that there is a null value is present so that why we can not do EDA \n",
    "we replace these value into 0"
   ]
  },
  {
   "cell_type": "markdown",
   "metadata": {
    "id": "G1-Rd1ZacUg6"
   },
   "source": []
  },
  {
   "cell_type": "code",
   "execution_count": 12,
   "metadata": {
    "id": "VDSKFGgocviY"
   },
   "outputs": [],
   "source": [
    "drop_out = drop_out.replace('NR',0)"
   ]
  },
  {
   "cell_type": "code",
   "execution_count": 13,
   "metadata": {
    "colab": {
     "base_uri": "https://localhost:8080/"
    },
    "id": "R12N8TnAdxGA",
    "outputId": "1c48183d-2135-4747-c0b3-2666c045ee11"
   },
   "outputs": [
    {
     "data": {
      "text/plain": [
       "array(['0.83', '1.35', '0.47', '3.3', '4.31', '6.57', '11.54', '15.84',\n",
       "       '11.51', '7.02', '8.19', '16.07', 0, '2.38', '0.35', 0, 0, 0,\n",
       "       '4.24', '1.45', '3.08', 0, '1.05', '1.6', 0, '1.06', '1.8', 0, 0,\n",
       "       0, 0, '0.08', '0.63', '0.21', '0.5', '0.82', '1.48', '0.22',\n",
       "       '5.54', '0.51', '0.57', '0.46', '6.8', '5.53', '6.98', '7.36',\n",
       "       '6.89', '5.91', '3.4', '2.42', '2.03', 0, 0, 0, '2.3', '0', 0,\n",
       "       '5.75', '9.91', '6.48', '0.88', '0.51', '1.26', '10.24', '17.27',\n",
       "       '9.5', '11.32', '11.3', '10.35', '24.27', '12.57', '10.17', '7.11',\n",
       "       '19.09', '6.18', '3.63', '2.83', '2.91', '0.25', '0.76', '0.36',\n",
       "       '1.99', '1.35', '2.89', '7.2', '7.76', '5.02', '4.78', '5.55',\n",
       "       '3.75', '4.02', '0.53', 0, '6.04', '2.21', '2.31', '3.63', '1.37',\n",
       "       '10.53', '7.91', '9.08', '1.14', '3.28', '4.37', '6.88', '3.44',\n",
       "       '2.13', '4.68', '4.53', '4.36'], dtype=object)"
      ]
     },
     "execution_count": 13,
     "metadata": {},
     "output_type": "execute_result"
    }
   ],
   "source": [
    "drop_out['Primary_Boys'].values"
   ]
  },
  {
   "cell_type": "code",
   "execution_count": 14,
   "metadata": {
    "id": "wN1b2949eEqe"
   },
   "outputs": [],
   "source": [
    "drop_out['Primary_Boys'] = drop_out['Primary_Boys'].apply(lambda x: float(x))"
   ]
  },
  {
   "cell_type": "code",
   "execution_count": 16,
   "metadata": {
    "id": "8QUa7wxnevNe"
   },
   "outputs": [],
   "source": [
    "\n",
    "drop_out['Primary_Girls'] = drop_out['Primary_Girls'].values.astype(np.float32)"
   ]
  },
  {
   "cell_type": "code",
   "execution_count": 17,
   "metadata": {
    "id": "lJm5DzqsjD9I"
   },
   "outputs": [],
   "source": [
    "drop_out['Primary_Boys'] = drop_out['Primary_Boys'].values.astype(np.float32)"
   ]
  },
  {
   "cell_type": "code",
   "execution_count": 18,
   "metadata": {
    "colab": {
     "base_uri": "https://localhost:8080/"
    },
    "id": "XEIanfC3fjqv",
    "outputId": "db4b9101-ab5f-4087-f4f9-14430799839d"
   },
   "outputs": [
    {
     "data": {
      "text/plain": [
       "array(['Uppe_r_Primary', 0, '1.44', '3.21', '3.46', '5.09', '4.44',\n",
       "       '5.86', '5.31', '7.89', '7.6', '10.45', 0, '2.77', '4.14', 0,\n",
       "       '0.72', '0.01', '6.09', '4.09', '6.47', '2.59', '3.31', '3.7', 0,\n",
       "       '3.42', '3.14', 0, '3.13', '0.95', 0, 0, 0, '2.75', '3.52', '4.65',\n",
       "       '0.18', '1.97', '5.5', '0.52', '0.6', '0.5', '5.51', '3.86',\n",
       "       '4.98', '4.99', '7.19', '9.01', '4.96', '2.31', '3.46', 0, 0, 0,\n",
       "       '0.97', '1.16', '2.37', '6.79', '9.88', '7.78', '0.89', 0, '0.89',\n",
       "       '5.48', '7.48', '3.61', '8.43', '6.34', '6.77', '19.35', '6.61',\n",
       "       '5.46', '10.15', '18.08', '7.87', '4.1', '3.11', '4.11', '0.33',\n",
       "       '0.37', '0.44', '2.58', '2.52', '2.95', '2.86', '4.49', '2.54',\n",
       "       '2.6', '6.35', '2.07', '0.38', '4.38', 0, '4.63', '2.43', '3.1',\n",
       "       '3.21', '2.37', 0, 0, '0.78', 0, '1.78', '0.79', '6.29', '5.63',\n",
       "       '5.84', '2.3', '3.09', '3.49'], dtype=object)"
      ]
     },
     "execution_count": 18,
     "metadata": {},
     "output_type": "execute_result"
    }
   ],
   "source": [
    "drop_out['Upper Primary_Boys'].values"
   ]
  },
  {
   "cell_type": "code",
   "execution_count": 19,
   "metadata": {
    "id": "416LAGbLft0G"
   },
   "outputs": [],
   "source": [
    "drop_out  =drop_out.replace('Upper primary',0)"
   ]
  },
  {
   "cell_type": "code",
   "execution_count": 20,
   "metadata": {
    "colab": {
     "base_uri": "https://localhost:8080/"
    },
    "id": "Tck5b0wUheib",
    "outputId": "603bc744-9d22-4f4d-b569-2817e67140a7"
   },
   "outputs": [
    {
     "data": {
      "text/plain": [
       "array([ 5.57,  8.36, 11.47, 12.21, 11.95, 15.81, 16.08, 13.99, 18.33,\n",
       "       25.65, 28.59, 24.64, 29.11, 24.67, 25.21,  0.  ,  0.  ,  0.  ,\n",
       "       14.82, 24.1 , 22.62, 26.34, 30.02, 18.19, 10.84, 19.46, 34.45,\n",
       "        6.26, 10.8 , 13.55,  9.49, 11.68, 14.15, 13.96, 22.85, 26.29,\n",
       "        8.22, 11.92, 16.35,  8.35,  9.32,  6.31, 16.79, 14.7 , 16.97,\n",
       "       17.84, 22.99, 23.45, 40.7 , 28.49, 27.71, 12.31, 17.3 , 14.96,\n",
       "        6.15,  8.48,  8.82, 11.16, 25.21, 23.71, 16.61, 15.04, 13.11,\n",
       "        8.16, 12.35, 12.94, 27.21, 25.63, 20.8 , 22.18, 20.  , 23.02,\n",
       "       26.7 , 34.14, 17.98, 50.09, 49.39, 29.74, 18.49, 18.22, 14.94,\n",
       "        9.4 ,  8.93,  9.22, 13.06, 17.85, 13.54,  9.93, 13.74, 17.58,\n",
       "       14.26, 16.13, 11.67, 17.99, 16.54, 24.09, 24.51, 28.03,  0.  ,\n",
       "        7.26,  9.89,  8.97,  9.85, 11.26, 14.95, 16.73, 16.33, 14.54,\n",
       "       17.93, 17.21], dtype=float32)"
      ]
     },
     "execution_count": 20,
     "metadata": {},
     "output_type": "execute_result"
    }
   ],
   "source": [
    "drop_out['Secondary _Boys'].values.astype(np.float32)"
   ]
  },
  {
   "cell_type": "code",
   "execution_count": 21,
   "metadata": {
    "colab": {
     "base_uri": "https://localhost:8080/"
    },
    "id": "KLZHbSOqjydk",
    "outputId": "ff79197b-19e7-4308-97d9-4654e54e4d08"
   },
   "outputs": [
    {
     "data": {
      "text/plain": [
       "array([ 5.55,  5.98,  8.16, 13.25, 13.37, 15.6 , 12.75, 11.77, 15.81,\n",
       "       27.79, 32.1 , 29.28, 31.28, 26.05, 26.62,  0.  ,  0.  ,  0.  ,\n",
       "       14.89, 22.72, 19.92, 22.  , 26.83, 15.08, 12.25, 20.33, 29.73,\n",
       "        4.21,  6.64,  9.8 ,  6.26,  7.19,  7.68, 12.95, 19.81, 23.24,\n",
       "        9.93, 13.27, 15.3 ,  8.4 ,  8.83,  5.8 , 17.96, 16.14, 17.65,\n",
       "       19.2 , 23.32, 24.56, 39.07, 26.57, 24.52,  6.38, 11.4 ,  9.52,\n",
       "        9.17,  7.65,  4.96, 16.39, 27.91, 25.97, 15.72, 13.78, 12.58,\n",
       "       11.35, 15.28, 15.86, 25.02, 23.99, 20.27, 20.65, 17.37, 20.73,\n",
       "       26.33, 36.08, 18.47, 49.62, 49.57, 29.37, 11.72, 10.02,  9.36,\n",
       "       10.3 ,  8.71,  8.39, 14.49, 20.06, 13.4 ,  8.64, 12.14, 14.39,\n",
       "        5.86,  7.99,  4.36, 16.86, 14.5 , 26.99, 25.7 , 28.83,  0.  ,\n",
       "        7.35, 10.6 , 10.45,  7.44,  9.46, 19.41, 19.77, 19.06, 14.54,\n",
       "       17.79, 16.88], dtype=float32)"
      ]
     },
     "execution_count": 21,
     "metadata": {},
     "output_type": "execute_result"
    }
   ],
   "source": [
    "drop_out['Secondary _Girls'].values.astype(np.float32)"
   ]
  },
  {
   "cell_type": "code",
   "execution_count": 22,
   "metadata": {
    "colab": {
     "base_uri": "https://localhost:8080/"
    },
    "id": "HgqT-s41kYal",
    "outputId": "b5534bbc-e7d9-468e-e279-cef289cd9e89"
   },
   "outputs": [
    {
     "data": {
      "text/plain": [
       "array([10.15, 12.2 , 12.21,  0.  , 10.85,  0.  , 15.49,  2.14, 17.44,\n",
       "        4.5 ,  6.83,  0.  ,  0.  ,  0.  ,  0.  , 10.09,  8.49,  8.41,\n",
       "        0.  ,  2.13,  4.14,  4.81,  5.33,  4.77,  0.  ,  4.89, 36.05,\n",
       "        9.6 , 11.45, 13.15,  5.8 ,  8.38,  9.39,  0.3 ,  6.18,  5.26,\n",
       "        0.  ,  3.16,  5.12,  7.64,  5.54,  5.57,  9.36,  6.2 , 11.2 ,\n",
       "        0.  ,  0.  ,  4.18, 11.26,  0.  ,  0.  ,  0.  ,  5.9 ,  0.  ,\n",
       "       10.65,  2.59,  3.21,  0.  ,  2.83,  0.73,  3.94,  3.89,  1.6 ,\n",
       "       10.06,  3.08,  0.  ,  0.  ,  0.  ,  0.  ,  0.  ,  0.  ,  4.85,\n",
       "       17.87, 12.96,  3.19,  0.  ,  0.  ,  0.  ,  3.87,  9.28,  3.69,\n",
       "        6.53,  3.2 ,  3.67,  0.  ,  0.  ,  0.  ,  4.92, 11.92, 11.17,\n",
       "        2.33,  4.35,  2.34, 13.2 ,  0.  ,  9.49,  9.06,  8.89,  0.  ,\n",
       "        0.  ,  2.45,  1.85,  0.  ,  2.61,  8.49,  7.76,  8.04,  0.  ,\n",
       "        1.61,  0.  ], dtype=float32)"
      ]
     },
     "execution_count": 22,
     "metadata": {},
     "output_type": "execute_result"
    }
   ],
   "source": [
    "drop_out['HrSecondary_Girls'].values.astype(np.float32)"
   ]
  },
  {
   "cell_type": "code",
   "execution_count": 23,
   "metadata": {
    "colab": {
     "base_uri": "https://localhost:8080/"
    },
    "id": "YQmLGdQgkjyt",
    "outputId": "3e0a9ec7-40d5-4542-c06c-fcd11299014a"
   },
   "outputs": [
    {
     "data": {
      "text/plain": [
       "array([17.66, 18.94, 21.05,  2.66, 12.65,  0.  , 18.57,  7.85, 19.37,\n",
       "        4.87,  7.62,  0.  ,  0.  ,  0.  ,  0.  , 16.32, 13.24, 12.1 ,\n",
       "        0.  ,  0.  ,  1.37, 13.34,  7.07, 13.45,  6.21, 14.48, 44.38,\n",
       "       18.56, 20.28, 20.91, 16.01, 18.21, 18.27,  0.58,  9.06,  8.4 ,\n",
       "        0.  ,  1.41,  6.24, 10.25,  8.44,  9.02, 11.69,  8.8 , 13.85,\n",
       "        0.  ,  0.  ,  2.72, 19.47,  0.  ,  5.97,  0.  ,  6.95,  1.54,\n",
       "        2.98,  3.03,  3.  ,  0.  ,  0.52,  0.  ,  2.55,  2.85,  2.02,\n",
       "        5.96,  3.3 ,  0.  ,  0.  ,  0.  ,  0.  ,  2.91,  0.  ,  9.  ,\n",
       "       18.67, 15.36, 10.36,  0.  ,  0.  ,  0.  ,  6.79, 13.24,  5.4 ,\n",
       "        9.69,  7.87,  7.52,  0.  ,  0.  ,  0.  , 11.79, 14.11, 12.48,\n",
       "        1.34,  4.55,  4.59, 13.67,  2.06,  8.4 ,  9.15,  8.97,  0.  ,\n",
       "        0.  ,  1.79,  1.35,  0.23,  3.4 ,  7.81,  8.03,  8.18,  0.  ,\n",
       "        1.48,  0.25], dtype=float32)"
      ]
     },
     "execution_count": 23,
     "metadata": {},
     "output_type": "execute_result"
    }
   ],
   "source": [
    "drop_out['HrSecondary_Boys'].values.astype(np.float32)"
   ]
  },
  {
   "cell_type": "code",
   "execution_count": 24,
   "metadata": {
    "colab": {
     "base_uri": "https://localhost:8080/"
    },
    "id": "YMhFh5vGk2Pl",
    "outputId": "5d574059-2cfc-4677-ecc3-49cfbf77e660"
   },
   "outputs": [
    {
     "data": {
      "text/plain": [
       "array(['Uppe_r_Primary', 0, '1.44', '3.21', '3.46', '5.09', '4.44',\n",
       "       '5.86', '5.31', '7.89', '7.6', '10.45', 0, '2.77', '4.14', 0,\n",
       "       '0.72', '0.01', '6.09', '4.09', '6.47', '2.59', '3.31', '3.7', 0,\n",
       "       '3.42', '3.14', 0, '3.13', '0.95', 0, 0, 0, '2.75', '3.52', '4.65',\n",
       "       '0.18', '1.97', '5.5', '0.52', '0.6', '0.5', '5.51', '3.86',\n",
       "       '4.98', '4.99', '7.19', '9.01', '4.96', '2.31', '3.46', 0, 0, 0,\n",
       "       '0.97', '1.16', '2.37', '6.79', '9.88', '7.78', '0.89', 0, '0.89',\n",
       "       '5.48', '7.48', '3.61', '8.43', '6.34', '6.77', '19.35', '6.61',\n",
       "       '5.46', '10.15', '18.08', '7.87', '4.1', '3.11', '4.11', '0.33',\n",
       "       '0.37', '0.44', '2.58', '2.52', '2.95', '2.86', '4.49', '2.54',\n",
       "       '2.6', '6.35', '2.07', '0.38', '4.38', 0, '4.63', '2.43', '3.1',\n",
       "       '3.21', '2.37', 0, 0, '0.78', 0, '1.78', '0.79', '6.29', '5.63',\n",
       "       '5.84', '2.3', '3.09', '3.49'], dtype=object)"
      ]
     },
     "execution_count": 24,
     "metadata": {},
     "output_type": "execute_result"
    }
   ],
   "source": [
    "drop_out['Upper Primary_Boys'].values"
   ]
  },
  {
   "cell_type": "code",
   "execution_count": 25,
   "metadata": {
    "id": "Ma1EqT2tlaEV"
   },
   "outputs": [],
   "source": [
    "drop_out =drop_out.replace('Uppe_r_Primary',0)\n"
   ]
  },
  {
   "cell_type": "code",
   "execution_count": 26,
   "metadata": {
    "colab": {
     "base_uri": "https://localhost:8080/"
    },
    "id": "CI69SgWUnlev",
    "outputId": "7872ed69-e741-43f4-a39a-6450a66d2989"
   },
   "outputs": [
    {
     "data": {
      "text/plain": [
       "array([0.000e+00, 0.000e+00, 1.440e+00, 3.210e+00, 3.460e+00, 5.090e+00,\n",
       "       4.440e+00, 5.860e+00, 5.310e+00, 7.890e+00, 7.600e+00, 1.045e+01,\n",
       "       0.000e+00, 2.770e+00, 4.140e+00, 0.000e+00, 7.200e-01, 1.000e-02,\n",
       "       6.090e+00, 4.090e+00, 6.470e+00, 2.590e+00, 3.310e+00, 3.700e+00,\n",
       "       0.000e+00, 3.420e+00, 3.140e+00, 0.000e+00, 3.130e+00, 9.500e-01,\n",
       "       0.000e+00, 0.000e+00, 0.000e+00, 2.750e+00, 3.520e+00, 4.650e+00,\n",
       "       1.800e-01, 1.970e+00, 5.500e+00, 5.200e-01, 6.000e-01, 5.000e-01,\n",
       "       5.510e+00, 3.860e+00, 4.980e+00, 4.990e+00, 7.190e+00, 9.010e+00,\n",
       "       4.960e+00, 2.310e+00, 3.460e+00, 0.000e+00, 0.000e+00, 0.000e+00,\n",
       "       9.700e-01, 1.160e+00, 2.370e+00, 6.790e+00, 9.880e+00, 7.780e+00,\n",
       "       8.900e-01, 0.000e+00, 8.900e-01, 5.480e+00, 7.480e+00, 3.610e+00,\n",
       "       8.430e+00, 6.340e+00, 6.770e+00, 1.935e+01, 6.610e+00, 5.460e+00,\n",
       "       1.015e+01, 1.808e+01, 7.870e+00, 4.100e+00, 3.110e+00, 4.110e+00,\n",
       "       3.300e-01, 3.700e-01, 4.400e-01, 2.580e+00, 2.520e+00, 2.950e+00,\n",
       "       2.860e+00, 4.490e+00, 2.540e+00, 2.600e+00, 6.350e+00, 2.070e+00,\n",
       "       3.800e-01, 4.380e+00, 0.000e+00, 4.630e+00, 2.430e+00, 3.100e+00,\n",
       "       3.210e+00, 2.370e+00, 0.000e+00, 0.000e+00, 7.800e-01, 0.000e+00,\n",
       "       1.780e+00, 7.900e-01, 6.290e+00, 5.630e+00, 5.840e+00, 2.300e+00,\n",
       "       3.090e+00, 3.490e+00], dtype=float32)"
      ]
     },
     "execution_count": 26,
     "metadata": {},
     "output_type": "execute_result"
    }
   ],
   "source": [
    "drop_out['Upper Primary_Boys'].values.astype(np.float32)"
   ]
  },
  {
   "cell_type": "code",
   "execution_count": 27,
   "metadata": {
    "colab": {
     "base_uri": "https://localhost:8080/"
    },
    "id": "9no7HjGRmNXT",
    "outputId": "516dac28-a177-4fb3-b1f1-f2508798fb18"
   },
   "outputs": [
    {
     "data": {
      "text/plain": [
       "array([ 1.09,  1.54,  1.95,  3.51,  4.12,  5.32,  6.74,  9.06,  8.08,\n",
       "        6.55,  6.54, 10.56,  0.  ,  3.19,  4.01,  0.88,  1.55,  0.96,\n",
       "        4.73,  3.51,  5.22,  4.3 ,  5.09,  4.4 ,  0.  ,  3.72,  3.07,\n",
       "        0.31,  2.37,  0.55,  0.  ,  0.  ,  0.21,  8.19,  8.04,  8.54,\n",
       "        0.8 ,  3.25,  6.18,  0.49,  0.98,  1.27,  5.52,  4.8 ,  5.95,\n",
       "        5.94,  7.65,  8.96,  5.15,  2.73,  4.27,  0.  ,  0.  ,  0.  ,\n",
       "        0.  ,  2.5 ,  3.18, 10.27, 13.57, 10.7 ,  2.72,  1.5 ,  2.83,\n",
       "        6.65,  6.54,  4.8 ,  7.34,  7.28,  6.3 , 19.21,  5.39,  4.06,\n",
       "        9.51, 17.63,  7.97,  3.52,  2.48,  3.49,  1.05,  0.83,  0.69,\n",
       "        3.04,  3.27,  3.55,  6.34,  7.95,  3.73,  3.64,  3.98,  1.08,\n",
       "        2.13,  4.67,  0.  ,  4.79,  2.17,  3.07,  2.2 ,  1.61,  3.1 ,\n",
       "        2.43,  4.61,  1.  ,  1.57,  1.62,  4.16,  3.1 ,  2.88,  4.01,\n",
       "        4.49,  4.6 ], dtype=float32)"
      ]
     },
     "execution_count": 27,
     "metadata": {},
     "output_type": "execute_result"
    }
   ],
   "source": [
    "drop_out['Upper Primary_Girls'].values.astype(np.float32)"
   ]
  },
  {
   "cell_type": "code",
   "execution_count": 28,
   "metadata": {
    "id": "CcYGrguhmiU7"
   },
   "outputs": [
    {
     "name": "stderr",
     "output_type": "stream",
     "text": [
      "C:\\Users\\ADMIN\\anaconda\\lib\\site-packages\\scipy\\__init__.py:138: UserWarning: A NumPy version >=1.16.5 and <1.23.0 is required for this version of SciPy (detected version 1.24.1)\n",
      "  warnings.warn(f\"A NumPy version >={np_minversion} and <{np_maxversion} is required for this version of \"\n"
     ]
    }
   ],
   "source": [
    "import matplotlib.pyplot as plt\n",
    "import seaborn as sns"
   ]
  },
  {
   "cell_type": "code",
   "execution_count": 30,
   "metadata": {
    "colab": {
     "base_uri": "https://localhost:8080/",
     "height": 300
    },
    "id": "eUQobe1toDc7",
    "outputId": "41249f6a-4eb8-408e-8915-f18846cd6572"
   },
   "outputs": [
    {
     "data": {
      "text/html": [
       "<div>\n",
       "<style scoped>\n",
       "    .dataframe tbody tr th:only-of-type {\n",
       "        vertical-align: middle;\n",
       "    }\n",
       "\n",
       "    .dataframe tbody tr th {\n",
       "        vertical-align: top;\n",
       "    }\n",
       "\n",
       "    .dataframe thead th {\n",
       "        text-align: right;\n",
       "    }\n",
       "</style>\n",
       "<table border=\"1\" class=\"dataframe\">\n",
       "  <thead>\n",
       "    <tr style=\"text-align: right;\">\n",
       "      <th></th>\n",
       "      <th>Primary_Boys</th>\n",
       "      <th>Primary_Girls</th>\n",
       "    </tr>\n",
       "  </thead>\n",
       "  <tbody>\n",
       "    <tr>\n",
       "      <th>count</th>\n",
       "      <td>110.000000</td>\n",
       "      <td>110.000000</td>\n",
       "    </tr>\n",
       "    <tr>\n",
       "      <th>mean</th>\n",
       "      <td>4.293455</td>\n",
       "      <td>4.010818</td>\n",
       "    </tr>\n",
       "    <tr>\n",
       "      <th>std</th>\n",
       "      <td>4.674720</td>\n",
       "      <td>4.553512</td>\n",
       "    </tr>\n",
       "    <tr>\n",
       "      <th>min</th>\n",
       "      <td>0.000000</td>\n",
       "      <td>0.000000</td>\n",
       "    </tr>\n",
       "    <tr>\n",
       "      <th>25%</th>\n",
       "      <td>0.540000</td>\n",
       "      <td>0.590000</td>\n",
       "    </tr>\n",
       "    <tr>\n",
       "      <th>50%</th>\n",
       "      <td>2.900000</td>\n",
       "      <td>2.440000</td>\n",
       "    </tr>\n",
       "    <tr>\n",
       "      <th>75%</th>\n",
       "      <td>6.742500</td>\n",
       "      <td>5.870000</td>\n",
       "    </tr>\n",
       "    <tr>\n",
       "      <th>max</th>\n",
       "      <td>24.270000</td>\n",
       "      <td>23.930000</td>\n",
       "    </tr>\n",
       "  </tbody>\n",
       "</table>\n",
       "</div>"
      ],
      "text/plain": [
       "       Primary_Boys  Primary_Girls\n",
       "count    110.000000     110.000000\n",
       "mean       4.293455       4.010818\n",
       "std        4.674720       4.553512\n",
       "min        0.000000       0.000000\n",
       "25%        0.540000       0.590000\n",
       "50%        2.900000       2.440000\n",
       "75%        6.742500       5.870000\n",
       "max       24.270000      23.930000"
      ]
     },
     "execution_count": 30,
     "metadata": {},
     "output_type": "execute_result"
    }
   ],
   "source": [
    "drop_out.describe()\n"
   ]
  },
  {
   "cell_type": "code",
   "execution_count": 31,
   "metadata": {
    "colab": {
     "base_uri": "https://localhost:8080/"
    },
    "id": "FUt5Ym5joHqX",
    "outputId": "81fc9716-3783-49ff-f9d4-b0998d93aa7c"
   },
   "outputs": [
    {
     "name": "stdout",
     "output_type": "stream",
     "text": [
      "<class 'pandas.core.frame.DataFrame'>\n",
      "RangeIndex: 110 entries, 0 to 109\n",
      "Data columns (total 14 columns):\n",
      " #   Column               Non-Null Count  Dtype  \n",
      "---  ------               --------------  -----  \n",
      " 0   State_UT             110 non-null    object \n",
      " 1   year                 110 non-null    object \n",
      " 2   Primary_Boys         110 non-null    float32\n",
      " 3   Primary_Girls        110 non-null    float32\n",
      " 4   Primary_Total        110 non-null    object \n",
      " 5   Upper Primary_Boys   110 non-null    object \n",
      " 6   Upper Primary_Girls  110 non-null    object \n",
      " 7   Upper Primary_Total  110 non-null    object \n",
      " 8   Secondary _Boys      110 non-null    object \n",
      " 9   Secondary _Girls     110 non-null    object \n",
      " 10  Secondary _Total     110 non-null    object \n",
      " 11  HrSecondary_Boys     110 non-null    object \n",
      " 12  HrSecondary_Girls    110 non-null    object \n",
      " 13  HrSecondary_Total    110 non-null    object \n",
      "dtypes: float32(2), object(12)\n",
      "memory usage: 11.3+ KB\n"
     ]
    }
   ],
   "source": [
    "\n",
    "drop_out.info()"
   ]
  },
  {
   "cell_type": "code",
   "execution_count": 32,
   "metadata": {
    "colab": {
     "base_uri": "https://localhost:8080/",
     "height": 477
    },
    "id": "qYP2eaeLofi3",
    "outputId": "fe22fcb9-b20a-4f03-a8ba-b13b6662847c"
   },
   "outputs": [
    {
     "name": "stderr",
     "output_type": "stream",
     "text": [
      "C:\\Users\\ADMIN\\anaconda\\lib\\site-packages\\seaborn\\_decorators.py:36: FutureWarning: Pass the following variable as a keyword arg: x. From version 0.12, the only valid positional argument will be `data`, and passing other arguments without an explicit keyword will result in an error or misinterpretation.\n",
      "  warnings.warn(\n"
     ]
    },
    {
     "data": {
      "text/plain": [
       "<AxesSubplot:xlabel='State_UT', ylabel='count'>"
      ]
     },
     "execution_count": 32,
     "metadata": {},
     "output_type": "execute_result"
    },
    {
     "data": {
      "image/png": "[encoded data removed]",
      "text/plain": [
       "<Figure size 2520x1080 with 1 Axes>"
      ]
     },
     "metadata": {
      "needs_background": "light"
     },
     "output_type": "display_data"
    }
   ],
   "source": [
    "plt.figure(figsize=(35,15))\n",
    "sns.countplot(drop_out['State_UT'])"
   ]
  },
  {
   "cell_type": "code",
   "execution_count": 33,
   "metadata": {
    "colab": {
     "base_uri": "https://localhost:8080/",
     "height": 277
    },
    "id": "KHqnjy3hpJ8a",
    "outputId": "59fae97d-3e12-4c08-9693-b4e70dac44da"
   },
   "outputs": [
    {
     "data": {
      "text/html": [
       "<div>\n",
       "<style scoped>\n",
       "    .dataframe tbody tr th:only-of-type {\n",
       "        vertical-align: middle;\n",
       "    }\n",
       "\n",
       "    .dataframe tbody tr th {\n",
       "        vertical-align: top;\n",
       "    }\n",
       "\n",
       "    .dataframe thead th {\n",
       "        text-align: right;\n",
       "    }\n",
       "</style>\n",
       "<table border=\"1\" class=\"dataframe\">\n",
       "  <thead>\n",
       "    <tr style=\"text-align: right;\">\n",
       "      <th></th>\n",
       "      <th>State_UT</th>\n",
       "      <th>year</th>\n",
       "      <th>Primary_Boys</th>\n",
       "      <th>Primary_Girls</th>\n",
       "      <th>Primary_Total</th>\n",
       "      <th>Upper Primary_Boys</th>\n",
       "      <th>Upper Primary_Girls</th>\n",
       "      <th>Upper Primary_Total</th>\n",
       "      <th>Secondary _Boys</th>\n",
       "      <th>Secondary _Girls</th>\n",
       "      <th>Secondary _Total</th>\n",
       "      <th>HrSecondary_Boys</th>\n",
       "      <th>HrSecondary_Girls</th>\n",
       "      <th>HrSecondary_Total</th>\n",
       "    </tr>\n",
       "  </thead>\n",
       "  <tbody>\n",
       "    <tr>\n",
       "      <th>104</th>\n",
       "      <td>West Bengal</td>\n",
       "      <td>2012-13</td>\n",
       "      <td>6.88</td>\n",
       "      <td>5.71</td>\n",
       "      <td>6.3</td>\n",
       "      <td>6.29</td>\n",
       "      <td>4.16</td>\n",
       "      <td>5.18</td>\n",
       "      <td>14.95</td>\n",
       "      <td>19.41</td>\n",
       "      <td>17.3</td>\n",
       "      <td>7.81</td>\n",
       "      <td>8.49</td>\n",
       "      <td>8.13</td>\n",
       "    </tr>\n",
       "    <tr>\n",
       "      <th>105</th>\n",
       "      <td>West Bengal</td>\n",
       "      <td>2013-14</td>\n",
       "      <td>3.44</td>\n",
       "      <td>2.37</td>\n",
       "      <td>2.91</td>\n",
       "      <td>5.63</td>\n",
       "      <td>3.1</td>\n",
       "      <td>4.31</td>\n",
       "      <td>16.73</td>\n",
       "      <td>19.77</td>\n",
       "      <td>18.34</td>\n",
       "      <td>8.03</td>\n",
       "      <td>7.76</td>\n",
       "      <td>7.9</td>\n",
       "    </tr>\n",
       "    <tr>\n",
       "      <th>106</th>\n",
       "      <td>West Bengal</td>\n",
       "      <td>2014-15</td>\n",
       "      <td>2.13</td>\n",
       "      <td>0.79</td>\n",
       "      <td>1.47</td>\n",
       "      <td>5.84</td>\n",
       "      <td>2.88</td>\n",
       "      <td>4.3</td>\n",
       "      <td>16.33</td>\n",
       "      <td>19.06</td>\n",
       "      <td>17.8</td>\n",
       "      <td>8.18</td>\n",
       "      <td>8.04</td>\n",
       "      <td>8.11</td>\n",
       "    </tr>\n",
       "  </tbody>\n",
       "</table>\n",
       "</div>"
      ],
      "text/plain": [
       "        State_UT     year Primary_Boys Primary_Girls Primary_Total  \\\n",
       "104  West Bengal  2012-13         6.88          5.71           6.3   \n",
       "105  West Bengal  2013-14         3.44          2.37          2.91   \n",
       "106  West Bengal  2014-15         2.13          0.79          1.47   \n",
       "\n",
       "    Upper Primary_Boys Upper Primary_Girls Upper Primary_Total  \\\n",
       "104               6.29                4.16                5.18   \n",
       "105               5.63                 3.1                4.31   \n",
       "106               5.84                2.88                 4.3   \n",
       "\n",
       "    Secondary _Boys Secondary _Girls Secondary _Total HrSecondary_Boys  \\\n",
       "104           14.95            19.41             17.3             7.81   \n",
       "105           16.73            19.77            18.34             8.03   \n",
       "106           16.33            19.06             17.8             8.18   \n",
       "\n",
       "    HrSecondary_Girls HrSecondary_Total  \n",
       "104              8.49              8.13  \n",
       "105              7.76               7.9  \n",
       "106              8.04              8.11  "
      ]
     },
     "execution_count": 33,
     "metadata": {},
     "output_type": "execute_result"
    }
   ],
   "source": [
    "data_wb.head()"
   ]
  },
  {
   "cell_type": "code",
   "execution_count": 34,
   "metadata": {
    "colab": {
     "base_uri": "https://localhost:8080/",
     "height": 296
    },
    "id": "yydQJIMPp1us",
    "outputId": "c2e9cf38-fab1-40e1-ac07-3c23414f2c83"
   },
   "outputs": [
    {
     "data": {
      "image/png": "[encoded data removed]",
      "text/plain": [
       "<Figure size 432x288 with 1 Axes>"
      ]
     },
     "metadata": {
      "needs_background": "light"
     },
     "output_type": "display_data"
    }
   ],
   "source": [
    "plt.bar(data_wb['Primary_Girls'],data_wb['year'])\n",
    "plt.xlabel('primary_Girls')\n",
    "plt.ylabel('years')\n",
    "plt.title(\"primary girls drop_out ratio in west bengal\")\n",
    "plt.show()"
   ]
  },
  {
   "cell_type": "code",
   "execution_count": 35,
   "metadata": {
    "id": "FkVh4aNYrKCa"
   },
   "outputs": [
    {
     "data": {
      "image/png": "[encoded data removed]",
      "text/plain": [
       "<Figure size 432x288 with 1 Axes>"
      ]
     },
     "metadata": {
      "needs_background": "light"
     },
     "output_type": "display_data"
    }
   ],
   "source": [
    "plt.bar(drop_out['Primary_Boys'],drop_out['year'] )\n",
    "plt.xlabel('Primary Boys')\n",
    "plt.ylabel('Year')\n",
    "plt.title('Year basis primary boys ratio')\n",
    "plt.show()"
   ]
  },
  {
   "cell_type": "code",
   "execution_count": 36,
   "metadata": {},
   "outputs": [
    {
     "data": {
      "image/png": "[encoded data removed]",
      "text/plain": [
       "<Figure size 432x288 with 1 Axes>"
      ]
     },
     "metadata": {
      "needs_background": "light"
     },
     "output_type": "display_data"
    }
   ],
   "source": [
    "plt.bar(data_wb['Upper Primary_Girls'],data_wb['year'] )\n",
    "plt.xlabel('Upper Primary_Girls')\n",
    "plt.ylabel('year')\n",
    "plt.title('Upper Primary_Girls ratio vs year ')\n",
    "plt.show()"
   ]
  },
  {
   "cell_type": "code",
   "execution_count": 37,
   "metadata": {},
   "outputs": [
    {
     "data": {
      "image/png": "[encoded data removed]",
      "text/plain": [
       "<Figure size 432x288 with 1 Axes>"
      ]
     },
     "metadata": {
      "needs_background": "light"
     },
     "output_type": "display_data"
    }
   ],
   "source": [
    "plt.bar(data_wb['Upper Primary_Girls'],data_wb['year'] )\n",
    "plt.xlabel('Upper Primary_Girls')\n",
    "plt.ylabel('year')\n",
    "plt.title('Upper Primary_Girls ratio vs year ')\n",
    "plt.show()\n"
   ]
  },
  {
   "cell_type": "code",
   "execution_count": 39,
   "metadata": {},
   "outputs": [
    {
     "data": {
      "text/plain": [
       "Index(['State_UT', 'year', 'Primary_Boys', 'Primary_Girls', 'Primary_Total',\n",
       "       'Upper Primary_Boys', 'Upper Primary_Girls', 'Upper Primary_Total',\n",
       "       'Secondary _Boys', 'Secondary _Girls', 'Secondary _Total',\n",
       "       'HrSecondary_Boys', 'HrSecondary_Girls', 'HrSecondary_Total'],\n",
       "      dtype='object')"
      ]
     },
     "execution_count": 39,
     "metadata": {},
     "output_type": "execute_result"
    }
   ],
   "source": [
    "drop_out.columns\n"
   ]
  },
  {
   "cell_type": "code",
   "execution_count": 41,
   "metadata": {},
   "outputs": [
    {
     "data": {
      "text/plain": [
       "<seaborn.axisgrid.PairGrid at 0x2557ecd57f0>"
      ]
     },
     "execution_count": 41,
     "metadata": {},
     "output_type": "execute_result"
    },
    {
     "data": {
      "image/png": "[encoded data removed]",
      "text/plain": [
       "<Figure size 360x360 with 6 Axes>"
      ]
     },
     "metadata": {
      "needs_background": "light"
     },
     "output_type": "display_data"
    }
   ],
   "source": [
    "sns.pairplot(drop_out,diag_kind='kde')\n",
    "\n"
   ]
  },
  {
   "cell_type": "code",
   "execution_count": null,
   "metadata": {},
   "outputs": [],
   "source": []
  }
 ],
 "metadata": {
  "colab": {
   "provenance": []
  },
  "kernelspec": {
   "display_name": "Python 3",
   "language": "python",
   "name": "python3"
  },
  "language_info": {
   "codemirror_mode": {
    "name": "ipython",
    "version": 3
   },
   "file_extension": ".py",
   "mimetype": "text/x-python",
   "name": "python",
   "nbconvert_exporter": "python",
   "pygments_lexer": "ipython3",
   "version": "3.8.8"
  },
  "vscode": {
   "interpreter": {
    "hash": "034f341b56ea83d9e65200be74613181066650abb1a92d0b5246445522526537"
   }
  }
 },
 "nbformat": 4,
 "nbformat_minor": 1
}
